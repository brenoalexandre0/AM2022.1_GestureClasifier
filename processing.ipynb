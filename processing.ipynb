{
 "cells": [
  {
   "cell_type": "markdown",
   "metadata": {
    "tags": []
   },
   "source": [
    "# Processamento dos dados\n",
    "---"
   ]
  },
  {
   "cell_type": "markdown",
   "metadata": {
    "jp-MarkdownHeadingCollapsed": true,
    "tags": []
   },
   "source": [
    "\n",
    "## Imports and constants"
   ]
  },
  {
   "cell_type": "code",
   "execution_count": 51,
   "metadata": {},
   "outputs": [],
   "source": [
    "from PIL import Image\n",
    "import json\n",
    "import os\n",
    "import pandas as pd\n",
    "import numpy as np\n",
    "\n",
    "from tqdm import tqdm\n"
   ]
  },
  {
   "cell_type": "code",
   "execution_count": 92,
   "metadata": {},
   "outputs": [],
   "source": [
    "IMAGES_PATH = \"subsample\"\n",
    "ANNOTATIONS_PATH = \"annotations\"\n",
    "CROPPED_PATH = \"cropped\""
   ]
  },
  {
   "cell_type": "code",
   "execution_count": 84,
   "metadata": {},
   "outputs": [],
   "source": [
    "class_names = [\n",
    "    'call',\n",
    "    'dislike',\n",
    "    'fist',\n",
    "    'four',\n",
    "    'like',\n",
    "    'mute',\n",
    "    'ok',\n",
    "    'one',\n",
    "    'palm',\n",
    "    'peace',\n",
    "    'rock',\n",
    "    'stop',\n",
    "    'stop_inverted',\n",
    "    'three',\n",
    "    'two_up',\n",
    "    'two_up_inverted',\n",
    "    'three2',\n",
    "    'peace_inverted',\n",
    "]"
   ]
  },
  {
   "cell_type": "markdown",
   "metadata": {
    "jp-MarkdownHeadingCollapsed": true,
    "tags": []
   },
   "source": [
    "## Functions"
   ]
  },
  {
   "cell_type": "code",
   "execution_count": 17,
   "metadata": {},
   "outputs": [],
   "source": [
    "def read_annotations(path):\n",
    "        json_annotations = json.load(open(path))\n",
    "        json_annotations = [dict(annotation, **{'name': f'{name}.jpg'}) for name, annotation in zip(json_annotations, json_annotations.values())]\n",
    "        annotations = pd.DataFrame(json_annotations)\n",
    "        \n",
    "        labels = list(annotations['labels'])\n",
    "        targets = []\n",
    "        for label in labels:\n",
    "            targets.append([item for item in label if item != 'no_gesture'][0])\n",
    "\n",
    "        annotations['target'] = targets\n",
    "        return annotations"
   ]
  },
  {
   "cell_type": "code",
   "execution_count": 47,
   "metadata": {},
   "outputs": [],
   "source": [
    "def get_crop_from_bbox(image, bbox, box_scale=1.):\n",
    "    \n",
    "        width, height = image.size\n",
    "        x1, y1, w, h = bbox\n",
    "        bbox = [x1 * width, y1 * height, (x1 + w) * width, (y1 + h) * height]\n",
    "        \n",
    "        int_bbox = np.array(bbox).round().astype(np.int32)\n",
    "\n",
    "        x1 = int_bbox[0]\n",
    "        y1 = int_bbox[1]\n",
    "        x2 = int_bbox[2]\n",
    "        y2 = int_bbox[3]\n",
    "        cx, cy = (x1 + x2) / 2, (y1 + y2) / 2\n",
    "\n",
    "        w = h = max(x2 - x1, y2 - y1)\n",
    "        x1 = max(0, cx - box_scale * w // 2)\n",
    "        y1 = max(0, cy - box_scale * h // 2)\n",
    "        x2 = cx + box_scale * w // 2\n",
    "        y2 = cy + box_scale * h // 2\n",
    "        x1, y1, x2, y2 = list(map(int, (x1, y1, x2, y2)))\n",
    "\n",
    "        crop_image = image.crop((x1, y1, x2, y2))\n",
    "        bbox_orig = np.array([x1, y1, x2, y2]).reshape(2, 2)\n",
    "\n",
    "        return crop_image, bbox_orig"
   ]
  },
  {
   "cell_type": "markdown",
   "metadata": {
    "jp-MarkdownHeadingCollapsed": true,
    "tags": []
   },
   "source": [
    "## Example of dataset"
   ]
  },
  {
   "cell_type": "code",
   "execution_count": 22,
   "metadata": {},
   "outputs": [
    {
     "data": {
      "text/html": [
       "<div>\n",
       "<style scoped>\n",
       "    .dataframe tbody tr th:only-of-type {\n",
       "        vertical-align: middle;\n",
       "    }\n",
       "\n",
       "    .dataframe tbody tr th {\n",
       "        vertical-align: top;\n",
       "    }\n",
       "\n",
       "    .dataframe thead th {\n",
       "        text-align: right;\n",
       "    }\n",
       "</style>\n",
       "<table border=\"1\" class=\"dataframe\">\n",
       "  <thead>\n",
       "    <tr style=\"text-align: right;\">\n",
       "      <th></th>\n",
       "      <th>bboxes</th>\n",
       "      <th>labels</th>\n",
       "      <th>leading_hand</th>\n",
       "      <th>leading_conf</th>\n",
       "      <th>user_id</th>\n",
       "      <th>name</th>\n",
       "      <th>target</th>\n",
       "    </tr>\n",
       "  </thead>\n",
       "  <tbody>\n",
       "    <tr>\n",
       "      <th>0</th>\n",
       "      <td>[[0.42538839, 0.21308209, 0.05382926, 0.112731...</td>\n",
       "      <td>[call]</td>\n",
       "      <td>right</td>\n",
       "      <td>1.0</td>\n",
       "      <td>4c2d70803e35ce2d30f3e875f1b01c6c</td>\n",
       "      <td>01898f3e-8422-4e6a-a056-30206f905640.jpg</td>\n",
       "      <td>call</td>\n",
       "    </tr>\n",
       "    <tr>\n",
       "      <th>1</th>\n",
       "      <td>[[0.40016984, 0.3223251, 0.13044141, 0.12870407]]</td>\n",
       "      <td>[call]</td>\n",
       "      <td>right</td>\n",
       "      <td>1.0</td>\n",
       "      <td>36d33267899bc102184bb6376896e1d1</td>\n",
       "      <td>0516ab39-9dd3-41bf-9707-ccea0dbf985f.jpg</td>\n",
       "      <td>call</td>\n",
       "    </tr>\n",
       "    <tr>\n",
       "      <th>2</th>\n",
       "      <td>[[0.48937548, 0.56126298, 0.1826894, 0.07676647]]</td>\n",
       "      <td>[call]</td>\n",
       "      <td>left</td>\n",
       "      <td>0.8</td>\n",
       "      <td>2584891344198940dc84b95e95e01730</td>\n",
       "      <td>055cbe75-f563-49e2-9c4f-86a1fb47b40f.jpg</td>\n",
       "      <td>call</td>\n",
       "    </tr>\n",
       "    <tr>\n",
       "      <th>3</th>\n",
       "      <td>[[0.56409572, 0.19575476, 0.09491629, 0.119821...</td>\n",
       "      <td>[call, no_gesture]</td>\n",
       "      <td>right</td>\n",
       "      <td>1.0</td>\n",
       "      <td>c89784925167c2a730e910424e267534</td>\n",
       "      <td>082b2083-c056-4735-a9f6-3df3593283d9.jpg</td>\n",
       "      <td>call</td>\n",
       "    </tr>\n",
       "    <tr>\n",
       "      <th>4</th>\n",
       "      <td>[[0.27973014, 0.3370414, 0.20686737, 0.14207432]]</td>\n",
       "      <td>[call]</td>\n",
       "      <td>right</td>\n",
       "      <td>1.0</td>\n",
       "      <td>9944ad417ddf5c5730ced9b5cf302da5</td>\n",
       "      <td>09732089-243c-47e6-a314-264fae24871e.jpg</td>\n",
       "      <td>call</td>\n",
       "    </tr>\n",
       "  </tbody>\n",
       "</table>\n",
       "</div>"
      ],
      "text/plain": [
       "                                              bboxes              labels  \\\n",
       "0  [[0.42538839, 0.21308209, 0.05382926, 0.112731...              [call]   \n",
       "1  [[0.40016984, 0.3223251, 0.13044141, 0.12870407]]              [call]   \n",
       "2  [[0.48937548, 0.56126298, 0.1826894, 0.07676647]]              [call]   \n",
       "3  [[0.56409572, 0.19575476, 0.09491629, 0.119821...  [call, no_gesture]   \n",
       "4  [[0.27973014, 0.3370414, 0.20686737, 0.14207432]]              [call]   \n",
       "\n",
       "  leading_hand  leading_conf                           user_id  \\\n",
       "0        right           1.0  4c2d70803e35ce2d30f3e875f1b01c6c   \n",
       "1        right           1.0  36d33267899bc102184bb6376896e1d1   \n",
       "2         left           0.8  2584891344198940dc84b95e95e01730   \n",
       "3        right           1.0  c89784925167c2a730e910424e267534   \n",
       "4        right           1.0  9944ad417ddf5c5730ced9b5cf302da5   \n",
       "\n",
       "                                       name target  \n",
       "0  01898f3e-8422-4e6a-a056-30206f905640.jpg   call  \n",
       "1  0516ab39-9dd3-41bf-9707-ccea0dbf985f.jpg   call  \n",
       "2  055cbe75-f563-49e2-9c4f-86a1fb47b40f.jpg   call  \n",
       "3  082b2083-c056-4735-a9f6-3df3593283d9.jpg   call  \n",
       "4  09732089-243c-47e6-a314-264fae24871e.jpg   call  "
      ]
     },
     "execution_count": 22,
     "metadata": {},
     "output_type": "execute_result"
    }
   ],
   "source": [
    "df = read_annotations(\"annotations/call.json\")\n",
    "df.head()"
   ]
  },
  {
   "cell_type": "code",
   "execution_count": 44,
   "metadata": {
    "jupyter": {
     "source_hidden": true
    },
    "tags": []
   },
   "outputs": [
    {
     "data": {
      "text/plain": [
       "[0.42538839, 0.21308209, 0.05382926, 0.11273142]"
      ]
     },
     "execution_count": 44,
     "metadata": {},
     "output_type": "execute_result"
    }
   ],
   "source": [
    "bbox = df.iloc[0]['bboxes'][0]\n",
    "bbox"
   ]
  },
  {
   "cell_type": "markdown",
   "metadata": {
    "jp-MarkdownHeadingCollapsed": true,
    "tags": []
   },
   "source": [
    "## Processing images"
   ]
  },
  {
   "cell_type": "code",
   "execution_count": 93,
   "metadata": {},
   "outputs": [],
   "source": [
    "for class_name in class_names:\n",
    "    os.makedirs(f\"{CROPPED_PATH}/{class_name}\")"
   ]
  },
  {
   "cell_type": "code",
   "execution_count": 94,
   "metadata": {},
   "outputs": [],
   "source": [
    "def process_class_images(class_name):\n",
    "    df = read_annotations(f\"{ANNOTATIONS_PATH}/{class_name}.json\")\n",
    "    \n",
    "    with tqdm(total=df.shape[0]) as pbar:\n",
    "        pbar.set_description(f\"Processing {class_name}:\")\n",
    "        for row in df.iterrows():\n",
    "            pbar.update(1)\n",
    "            real_bbox = [row[1][\"bboxes\"][i] for i, value in enumerate(row[1][\"labels\"]) if value == class_name]\n",
    "            img = Image.open(f\"{IMAGES_PATH}/{class_name}/{row[1]['name']}\")\n",
    "            tmp_img, bbox = get_crop_from_bbox(img, real_bbox[0])\n",
    "            tmp_img.save(f\"{CROPPED_PATH}/{class_name}/{row[1]['name']}\")"
   ]
  },
  {
   "cell_type": "code",
   "execution_count": 95,
   "metadata": {},
   "outputs": [
    {
     "name": "stderr",
     "output_type": "stream",
     "text": [
      "Processing call:: 100%|███████████████████████| 100/100 [00:05<00:00, 19.04it/s]\n",
      "Processing dislike:: 100%|████████████████████| 100/100 [00:05<00:00, 18.70it/s]\n",
      "Processing fist:: 100%|███████████████████████| 100/100 [00:05<00:00, 19.07it/s]\n",
      "Processing four:: 100%|███████████████████████| 100/100 [00:05<00:00, 18.01it/s]\n",
      "Processing like:: 100%|███████████████████████| 100/100 [00:05<00:00, 19.78it/s]\n",
      "Processing mute:: 100%|███████████████████████| 100/100 [00:05<00:00, 19.46it/s]\n",
      "Processing ok:: 100%|█████████████████████████| 100/100 [00:05<00:00, 18.88it/s]\n",
      "Processing one:: 100%|████████████████████████| 100/100 [00:05<00:00, 19.65it/s]\n",
      "Processing palm:: 100%|███████████████████████| 100/100 [00:05<00:00, 18.80it/s]\n",
      "Processing peace:: 100%|██████████████████████| 100/100 [00:05<00:00, 18.26it/s]\n",
      "Processing rock:: 100%|███████████████████████| 100/100 [00:05<00:00, 17.47it/s]\n",
      "Processing stop:: 100%|███████████████████████| 100/100 [00:04<00:00, 20.43it/s]\n",
      "Processing stop_inverted:: 100%|██████████████| 100/100 [00:05<00:00, 16.77it/s]\n",
      "Processing three:: 100%|██████████████████████| 100/100 [00:05<00:00, 18.79it/s]\n",
      "Processing two_up:: 100%|█████████████████████| 100/100 [00:05<00:00, 18.06it/s]\n",
      "Processing two_up_inverted:: 100%|████████████| 100/100 [00:05<00:00, 18.83it/s]\n",
      "Processing three2:: 100%|█████████████████████| 100/100 [00:05<00:00, 18.65it/s]\n",
      "Processing peace_inverted:: 100%|█████████████| 100/100 [00:05<00:00, 18.39it/s]\n"
     ]
    }
   ],
   "source": [
    "for class_name in class_names:\n",
    "    process_class_images(class_name)"
   ]
  }
 ],
 "metadata": {
  "kernelspec": {
   "display_name": "Python 3 (ipykernel)",
   "language": "python",
   "name": "python3"
  },
  "language_info": {
   "codemirror_mode": {
    "name": "ipython",
    "version": 3
   },
   "file_extension": ".py",
   "mimetype": "text/x-python",
   "name": "python",
   "nbconvert_exporter": "python",
   "pygments_lexer": "ipython3",
   "version": "3.10.5"
  },
  "vscode": {
   "interpreter": {
    "hash": "e7370f93d1d0cde622a1f8e1c04877d8463912d04d973331ad4851f04de6915a"
   }
  }
 },
 "nbformat": 4,
 "nbformat_minor": 4
}
